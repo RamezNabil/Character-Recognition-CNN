{
  "nbformat": 4,
  "nbformat_minor": 0,
  "metadata": {
    "colab": {
      "name": "Identifying-Characters-CNN-Experiments.ipynb",
      "provenance": [],
      "authorship_tag": "ABX9TyMRMr9agIEvETVWew0ueSNa",
      "include_colab_link": true
    },
    "kernelspec": {
      "name": "python3",
      "display_name": "Python 3"
    },
    "language_info": {
      "name": "python"
    },
    "accelerator": "GPU"
  },
  "cells": [
    {
      "cell_type": "markdown",
      "metadata": {
        "id": "view-in-github",
        "colab_type": "text"
      },
      "source": [
        "<a href=\"https://colab.research.google.com/github/RamezNabil/Character-Recognition-CNN/blob/main/Identifying_Characters_CNN_Experiments.ipynb\" target=\"_parent\"><img src=\"https://colab.research.google.com/assets/colab-badge.svg\" alt=\"Open In Colab\"/></a>"
      ]
    },
    {
      "cell_type": "markdown",
      "metadata": {
        "id": "3o45YHy8Gw79"
      },
      "source": [
        "# Identifying characters from Google Street View images with CNN"
      ]
    },
    {
      "cell_type": "markdown",
      "metadata": {
        "id": "Pzt8HavvHHEs"
      },
      "source": [
        "##Setting up Kaggle api"
      ]
    },
    {
      "cell_type": "code",
      "metadata": {
        "id": "D96cxy-eGnNV"
      },
      "source": [
        "!pip install -q kaggle"
      ],
      "execution_count": null,
      "outputs": []
    },
    {
      "cell_type": "code",
      "metadata": {
        "id": "2vDDXdT8HQHn"
      },
      "source": [
        "# Upload your Kaggle API json file\n",
        "from google.colab import files\n",
        "files.upload()"
      ],
      "execution_count": null,
      "outputs": []
    },
    {
      "cell_type": "code",
      "metadata": {
        "id": "irbtHi5AkZ01"
      },
      "source": [
        "!rm -r ~/.kaggle\n",
        "!mkdir ~/.kaggle\n",
        "!mv ./kaggle.json ~/.kaggle/\n",
        "!chmod 600 ~/.kaggle/kaggle.json\n",
        "!kaggle datasets list"
      ],
      "execution_count": null,
      "outputs": []
    },
    {
      "cell_type": "markdown",
      "metadata": {
        "id": "8x5hujBKHlPI"
      },
      "source": [
        "##Downloading the dataset"
      ]
    },
    {
      "cell_type": "code",
      "metadata": {
        "id": "McnpFXxHHrhP"
      },
      "source": [
        "!kaggle competitions download -c street-view-getting-started-with-julia"
      ],
      "execution_count": null,
      "outputs": []
    },
    {
      "cell_type": "code",
      "metadata": {
        "id": "gCabby1MJ5GN"
      },
      "source": [
        "import tensorflow as tf\n",
        "import pandas as pd\n",
        "import numpy as np\n",
        "import matplotlib.pyplot as plt\n",
        "import matplotlib.image as mpimg\n",
        "import random\n",
        "import os"
      ],
      "execution_count": null,
      "outputs": []
    },
    {
      "cell_type": "markdown",
      "metadata": {
        "id": "3kHcoS4mIgPH"
      },
      "source": [
        "##Viewing the dataset\n",
        "* 20x20x3 input images (.Bmp)\n",
        "* 6283 training inputs\n",
        "* 6220 testing inputs\n",
        "* 62 class labels (0-9, a-z, A-Z)\n"
      ]
    },
    {
      "cell_type": "code",
      "metadata": {
        "id": "tiRQYACLb6Kx"
      },
      "source": [
        "# Unzipping the dataset into content/Dataset\n",
        "!unzip \"/content/trainResized.zip\" -d Dataset\n",
        "!unzip \"/content/testResized.zip\" -d Dataset"
      ],
      "execution_count": null,
      "outputs": []
    },
    {
      "cell_type": "code",
      "metadata": {
        "id": "hI-YM8ovolSL",
        "colab": {
          "base_uri": "https://localhost:8080/"
        },
        "outputId": "21acab8d-c1da-4390-e564-2d59c9f86a4e"
      },
      "source": [
        "len(os.listdir('/content/Dataset/trainResized')), len(os.listdir('/content/Dataset/testResized'))"
      ],
      "execution_count": null,
      "outputs": [
        {
          "output_type": "execute_result",
          "data": {
            "text/plain": [
              "(6283, 6220)"
            ]
          },
          "metadata": {
            "tags": []
          },
          "execution_count": 7
        }
      ]
    },
    {
      "cell_type": "code",
      "metadata": {
        "id": "tfPX0PFmJqWd",
        "colab": {
          "base_uri": "https://localhost:8080/"
        },
        "outputId": "abb63b8c-6119-4097-f2ae-9daea6d462df"
      },
      "source": [
        "# Viewing unique class labels and their count\n",
        "data_labels = pd.read_csv('/content/trainLabels.csv')\n",
        "print(sorted(data_labels['Class'].unique()))\n",
        "print(len(data_labels['Class'].unique()))"
      ],
      "execution_count": null,
      "outputs": [
        {
          "output_type": "stream",
          "text": [
            "['0', '1', '2', '3', '4', '5', '6', '7', '8', '9', 'A', 'B', 'C', 'D', 'E', 'F', 'G', 'H', 'I', 'J', 'K', 'L', 'M', 'N', 'O', 'P', 'Q', 'R', 'S', 'T', 'U', 'V', 'W', 'X', 'Y', 'Z', 'a', 'b', 'c', 'd', 'e', 'f', 'g', 'h', 'i', 'j', 'k', 'l', 'm', 'n', 'o', 'p', 'q', 'r', 's', 't', 'u', 'v', 'w', 'x', 'y', 'z']\n",
            "62\n"
          ],
          "name": "stdout"
        }
      ]
    },
    {
      "cell_type": "code",
      "metadata": {
        "id": "w-b_Er7_l53_"
      },
      "source": [
        "def get_class(ID):\n",
        "  '''\n",
        "  Gets class label from image ID\n",
        "  '''\n",
        "  return data_labels['Class'][ID-1]"
      ],
      "execution_count": null,
      "outputs": []
    },
    {
      "cell_type": "code",
      "metadata": {
        "id": "1UJ-oJSn6-vn"
      },
      "source": [
        "# View an image\n",
        "\n",
        "def view_random_image(target_dir, target_class):\n",
        "  # Setup target directory (we'll view images from here)\n",
        "  target_folder = target_dir+target_class\n",
        "\n",
        "  # Get a random image path\n",
        "  random_image = random.sample(os.listdir(target_folder), 1)\n",
        "\n",
        "  # Read in the image and plot it using matplotlib\n",
        "  img = mpimg.imread(target_folder + \"/\" + random_image[0])\n",
        "  plt.imshow(img)\n",
        "\n",
        "  # Getting class label from its image id\n",
        "  image_id = random_image[0].split('.')[0]\n",
        "  plt.title(get_class(int(image_id)))\n",
        "  plt.axis(\"off\");\n",
        "\n",
        "  print(f\"Image shape: {img.shape}\") # show the shape of the image\n",
        "\n",
        "  return img"
      ],
      "execution_count": null,
      "outputs": []
    },
    {
      "cell_type": "code",
      "metadata": {
        "colab": {
          "base_uri": "https://localhost:8080/",
          "height": 281
        },
        "id": "AmNz-ur8hk_N",
        "outputId": "db9f6c23-b8a4-499b-cbfa-0ce65c9c90ca"
      },
      "source": [
        "view_random_image(\"Dataset/\", \"trainResized\");"
      ],
      "execution_count": null,
      "outputs": [
        {
          "output_type": "stream",
          "text": [
            "Image shape: (20, 20, 3)\n"
          ],
          "name": "stdout"
        },
        {
          "output_type": "display_data",
          "data": {
            "image/png": "[encoded data removed]",
            "text/plain": [
              "<Figure size 432x288 with 1 Axes>"
            ]
          },
          "metadata": {
            "tags": [],
            "needs_background": "light"
          }
        }
      ]
    },
    {
      "cell_type": "markdown",
      "metadata": {
        "id": "RDy4vVuuojMr"
      },
      "source": [
        "## Pre-processing Data"
      ]
    },
    {
      "cell_type": "code",
      "metadata": {
        "id": "TESYr3jHp8CQ"
      },
      "source": [
        "# Getting X_train, y_train\n",
        "X_train_path = '/content/Dataset/trainResized/'\n",
        "X_train = []\n",
        "y_train = []\n",
        "\n",
        "for img in os.listdir(X_train_path):\n",
        "  feature = mpimg.imread(X_train_path + img)\n",
        "  X_train.append(feature)\n",
        "  img_id = int(img.split('.')[0])\n",
        "  y_train.append(get_class(img_id))"
      ],
      "execution_count": null,
      "outputs": []
    },
    {
      "cell_type": "code",
      "metadata": {
        "id": "lwO_Oc0qqWut"
      },
      "source": [
        "# Getting X_test, ids\n",
        "X_test_path = '/content/Dataset/testResized/'\n",
        "X_test = []\n",
        "ids = []\n",
        "\n",
        "for img in os.listdir(X_test_path):\n",
        "  feature = mpimg.imread(X_test_path + img)\n",
        "  X_test.append(feature)\n",
        "  img_id = int(img.split('.')[0])\n",
        "  ids.append(img_id)"
      ],
      "execution_count": null,
      "outputs": []
    },
    {
      "cell_type": "code",
      "metadata": {
        "id": "l6-vCs7qtrQM",
        "colab": {
          "base_uri": "https://localhost:8080/",
          "height": 281
        },
        "outputId": "0a75c48b-64b6-4e27-9181-ac8e443c0498"
      },
      "source": [
        "# Visualizing X_train and y_train\n",
        "random_index = random.sample(range(0,len(X_train)), 1)\n",
        "random_index = random_index[0]\n",
        "plt.imshow(X_train[random_index])\n",
        "plt.title(y_train[random_index]);"
      ],
      "execution_count": null,
      "outputs": [
        {
          "output_type": "display_data",
          "data": {
            "image/png": "[encoded data removed]",
            "text/plain": [
              "<Figure size 432x288 with 1 Axes>"
            ]
          },
          "metadata": {
            "tags": [],
            "needs_background": "light"
          }
        }
      ]
    },
    {
      "cell_type": "code",
      "metadata": {
        "id": "4QX4Ku55yiJx"
      },
      "source": [
        "# Some X_train images are greyscale (20x20) instead of RGB (20x20x3)\n",
        "# Removing (cutting) greyscale images from dataset\n",
        "X_train_cut = []\n",
        "y_train_cut = []\n",
        "index = 0\n",
        "for img in X_train:\n",
        "  if img.shape == (20,20,3):\n",
        "    X_train_cut.append(img)\n",
        "    y_train_cut.append(y_train[index])\n",
        "  index = index + 1"
      ],
      "execution_count": null,
      "outputs": []
    },
    {
      "cell_type": "code",
      "metadata": {
        "colab": {
          "base_uri": "https://localhost:8080/",
          "height": 281
        },
        "id": "w-pDSetn8E6y",
        "cellView": "form",
        "outputId": "fcc26727-74ed-416e-b71b-6101e159a869"
      },
      "source": [
        "#@title Visualizing X_train_cut and y_train_cut\n",
        "random_index = random.sample(range(0,len(X_train_cut)), 1)\n",
        "random_index = random_index[0]\n",
        "plt.imshow(X_train_cut[random_index])\n",
        "plt.title(y_train_cut[random_index]);"
      ],
      "execution_count": null,
      "outputs": [
        {
          "output_type": "display_data",
          "data": {
            "image/png": "[encoded data removed]",
            "text/plain": [
              "<Figure size 432x288 with 1 Axes>"
            ]
          },
          "metadata": {
            "tags": [],
            "needs_background": "light"
          }
        }
      ]
    },
    {
      "cell_type": "code",
      "metadata": {
        "id": "JXFne3hZ9esC",
        "colab": {
          "base_uri": "https://localhost:8080/"
        },
        "outputId": "d0d791e9-783f-4a7f-8cc6-91e1a4ba4940"
      },
      "source": [
        "# Some X_test images are greyscale (20x20) instead of RGB (20x20x3)\n",
        "# repeating the greyscale values 3 times to make it 20x20x3\n",
        "for index in range(len(X_test)):\n",
        "  if X_test[index].shape == (20,20):\n",
        "    X_test[index] = np.reshape (np.concatenate((X_test[index], X_test[index], X_test[index])), [20,20,3] )\n",
        "\n",
        "X_test_modified = np.array(X_test)\n",
        "X_test_modified.shape"
      ],
      "execution_count": null,
      "outputs": [
        {
          "output_type": "execute_result",
          "data": {
            "text/plain": [
              "(6220, 20, 20, 3)"
            ]
          },
          "metadata": {
            "tags": []
          },
          "execution_count": 17
        }
      ]
    },
    {
      "cell_type": "code",
      "metadata": {
        "id": "I3BUVpzb3cgs",
        "colab": {
          "base_uri": "https://localhost:8080/"
        },
        "outputId": "1d1db1e0-33c4-468e-e431-47d612ba1929"
      },
      "source": [
        "# Turning feature data into tensors\n",
        "X_train_tensor = tf.constant(np.array(X_train_cut).reshape(-1,20,20,3))\n",
        "X_test_tensor = tf.constant(X_test_modified.reshape(-1,20,20,3))\n",
        "X_train_tensor.shape, X_test_tensor.shape"
      ],
      "execution_count": null,
      "outputs": [
        {
          "output_type": "execute_result",
          "data": {
            "text/plain": [
              "(TensorShape([6280, 20, 20, 3]), TensorShape([6220, 20, 20, 3]))"
            ]
          },
          "metadata": {
            "tags": []
          },
          "execution_count": 18
        }
      ]
    },
    {
      "cell_type": "markdown",
      "metadata": {
        "id": "LqfmMwt0dxm6"
      },
      "source": [
        "### Normalization"
      ]
    },
    {
      "cell_type": "code",
      "metadata": {
        "id": "lHBSTYU-xmoC"
      },
      "source": [
        "# Normalizing Data\n",
        "X_train_norm = X_train_tensor/255\n",
        "X_test_norm = X_test_tensor/255\n",
        "X_train[0], X_train_norm[0]"
      ],
      "execution_count": null,
      "outputs": []
    },
    {
      "cell_type": "code",
      "metadata": {
        "id": "3tvffCQrJ8W-",
        "colab": {
          "base_uri": "https://localhost:8080/"
        },
        "outputId": "84fbd40b-d1ca-40e0-fe0f-940c87e20e72"
      },
      "source": [
        "# Indexing class labels \n",
        "unique_labels = sorted(data_labels['Class'].unique())\n",
        "y_train_index = []\n",
        "for label in y_train_cut:\n",
        "  y_train_index.append(unique_labels.index(label))\n",
        "y_train_index[:10]"
      ],
      "execution_count": null,
      "outputs": [
        {
          "output_type": "execute_result",
          "data": {
            "text/plain": [
              "[29, 0, 29, 10, 23, 38, 49, 28, 12, 49]"
            ]
          },
          "metadata": {
            "tags": []
          },
          "execution_count": 33
        }
      ]
    },
    {
      "cell_type": "code",
      "metadata": {
        "id": "XZRh5rI6OIPw",
        "colab": {
          "base_uri": "https://localhost:8080/"
        },
        "outputId": "98818f0d-eb6f-4eaf-d10d-41439b6bd349"
      },
      "source": [
        "# Turning trianing labels into a tensor\n",
        "y_train_tensor = tf.constant(np.array(y_train_index), dtype=tf.uint8)\n",
        "y_train_tensor"
      ],
      "execution_count": null,
      "outputs": [
        {
          "output_type": "execute_result",
          "data": {
            "text/plain": [
              "<tf.Tensor: shape=(6280,), dtype=uint8, numpy=array([29,  0, 29, ..., 11, 50, 11], dtype=uint8)>"
            ]
          },
          "metadata": {
            "tags": []
          },
          "execution_count": 34
        }
      ]
    },
    {
      "cell_type": "markdown",
      "metadata": {
        "id": "zJjLXWK4h-WA"
      },
      "source": [
        "### Spliting data (Not used)"
      ]
    },
    {
      "cell_type": "code",
      "metadata": {
        "colab": {
          "base_uri": "https://localhost:8080/",
          "height": 229
        },
        "id": "DpjYuYX4iEFK",
        "outputId": "f2f9c032-5633-496c-dec8-a73f25028681"
      },
      "source": [
        "from sklearn.model_selection import train_test_split\n",
        "X_train_sp, X_test_sp, y_train_sp, y_test_sp = train_test_split(X_train_cut,y_train_cut,test_size =0.2, random_state=42, shuffle = True)\n",
        "\n",
        "# Turning into numpy\n",
        "X_train_sp = np.array(X_train_sp).reshape(-1,20,20,3)\n",
        "X_test_sp = np.array(X_test_sp).reshape(-1,20,20,3)\n",
        "y_train_sp = np.array(y_train_sp)\n",
        "y_test_sp = np.array(y_test_sp)\n",
        "\n",
        "# Normalization\n",
        "X_train_sp = X_train_sp / 255.\n",
        "X_test_sp = X_test_sp / 255.\n",
        "\n",
        "# Indexing train labels \n",
        "unique_labels = sorted(data_labels['Class'].unique())\n",
        "y_train_index = []\n",
        "for label in y_train_sp:\n",
        "  y_train_index.append(unique_labels.index(label))\n",
        "y_train_sp = np.array(y_train_index)\n",
        "\n",
        "# Indexing test labels \n",
        "unique_labels = sorted(data_labels['Class'].unique())\n",
        "y_train_index = []\n",
        "for label in y_test_sp:\n",
        "  y_train_index.append(unique_labels.index(label))\n",
        "y_test_sp = np.array(y_train_index)"
      ],
      "execution_count": null,
      "outputs": [
        {
          "output_type": "error",
          "ename": "NameError",
          "evalue": "ignored",
          "traceback": [
            "\u001b[0;31m---------------------------------------------------------------------------\u001b[0m",
            "\u001b[0;31mNameError\u001b[0m                                 Traceback (most recent call last)",
            "\u001b[0;32m<ipython-input-1-e8da7c312e9a>\u001b[0m in \u001b[0;36m<module>\u001b[0;34m()\u001b[0m\n\u001b[1;32m      1\u001b[0m \u001b[0;32mfrom\u001b[0m \u001b[0msklearn\u001b[0m\u001b[0;34m.\u001b[0m\u001b[0mmodel_selection\u001b[0m \u001b[0;32mimport\u001b[0m \u001b[0mtrain_test_split\u001b[0m\u001b[0;34m\u001b[0m\u001b[0;34m\u001b[0m\u001b[0m\n\u001b[0;32m----> 2\u001b[0;31m \u001b[0mX_train_sp\u001b[0m\u001b[0;34m,\u001b[0m \u001b[0mX_test_sp\u001b[0m\u001b[0;34m,\u001b[0m \u001b[0my_train_sp\u001b[0m\u001b[0;34m,\u001b[0m \u001b[0my_test_sp\u001b[0m \u001b[0;34m=\u001b[0m \u001b[0mtrain_test_split\u001b[0m\u001b[0;34m(\u001b[0m\u001b[0mX_train_cut\u001b[0m\u001b[0;34m,\u001b[0m\u001b[0my_train_cut\u001b[0m\u001b[0;34m,\u001b[0m\u001b[0mtest_size\u001b[0m \u001b[0;34m=\u001b[0m\u001b[0;36m0.2\u001b[0m\u001b[0;34m,\u001b[0m \u001b[0mrandom_state\u001b[0m\u001b[0;34m=\u001b[0m\u001b[0;36m42\u001b[0m\u001b[0;34m,\u001b[0m \u001b[0mshuffle\u001b[0m \u001b[0;34m=\u001b[0m \u001b[0;32mTrue\u001b[0m\u001b[0;34m)\u001b[0m\u001b[0;34m\u001b[0m\u001b[0;34m\u001b[0m\u001b[0m\n\u001b[0m\u001b[1;32m      3\u001b[0m \u001b[0;34m\u001b[0m\u001b[0m\n\u001b[1;32m      4\u001b[0m \u001b[0;31m# Turning into numpy\u001b[0m\u001b[0;34m\u001b[0m\u001b[0;34m\u001b[0m\u001b[0;34m\u001b[0m\u001b[0m\n\u001b[1;32m      5\u001b[0m \u001b[0mX_train_sp\u001b[0m \u001b[0;34m=\u001b[0m \u001b[0mnp\u001b[0m\u001b[0;34m.\u001b[0m\u001b[0marray\u001b[0m\u001b[0;34m(\u001b[0m\u001b[0mX_train_sp\u001b[0m\u001b[0;34m)\u001b[0m\u001b[0;34m.\u001b[0m\u001b[0mreshape\u001b[0m\u001b[0;34m(\u001b[0m\u001b[0;34m-\u001b[0m\u001b[0;36m1\u001b[0m\u001b[0;34m,\u001b[0m\u001b[0;36m20\u001b[0m\u001b[0;34m,\u001b[0m\u001b[0;36m20\u001b[0m\u001b[0;34m,\u001b[0m\u001b[0;36m3\u001b[0m\u001b[0;34m)\u001b[0m\u001b[0;34m\u001b[0m\u001b[0;34m\u001b[0m\u001b[0m\n",
            "\u001b[0;31mNameError\u001b[0m: name 'X_train_cut' is not defined"
          ]
        }
      ]
    },
    {
      "cell_type": "markdown",
      "metadata": {
        "id": "ISN2U98tFgf9"
      },
      "source": [
        "## Building the Model\n",
        "* Model 1: Tiny VGG: 76% accuracy at 50 epochs and lr = 0.001\n",
        "* Model 2: VGG-19: 7.31% accuracy at 5 epochs and lr = 0.001\n",
        "* Model 3: Tiny VGG with extra neurons: 99% at 50 epochs and lr = 0.001\n",
        "* Model 4: Tiny VGG with extra neurons and regularization: "
      ]
    },
    {
      "cell_type": "code",
      "metadata": {
        "colab": {
          "base_uri": "https://localhost:8080/"
        },
        "id": "b2HB7kANPVXE",
        "outputId": "b652aca2-5dca-40d6-87d1-f4923e892dda"
      },
      "source": [
        "# Checking shapes\n",
        "X_train_norm.shape, y_train_tensor.shape"
      ],
      "execution_count": null,
      "outputs": [
        {
          "output_type": "execute_result",
          "data": {
            "text/plain": [
              "(TensorShape([6280, 20, 20, 3]), TensorShape([6280]))"
            ]
          },
          "metadata": {
            "tags": []
          },
          "execution_count": 19
        }
      ]
    },
    {
      "cell_type": "markdown",
      "metadata": {
        "id": "tu9rsqa1WWZK"
      },
      "source": [
        "### Model 1 Tiny VGG"
      ]
    },
    {
      "cell_type": "code",
      "metadata": {
        "id": "LhUA9DmhFjMU"
      },
      "source": [
        "tf.random.set_seed(42)\n",
        "\n",
        "# Create a CNN model (same as Tiny VGG - https://poloclub.github.io/cnn-explainer/)\n",
        "model_1 = tf.keras.models.Sequential([\n",
        "  tf.keras.layers.Conv2D(filters=10, \n",
        "                         kernel_size=3, # can also be (3, 3)\n",
        "                         activation=\"relu\", \n",
        "                         input_shape=(20, 20, 3)), # first layer specifies input shape (height, width, colour channels)\n",
        "  tf.keras.layers.Conv2D(10, 3, activation=\"relu\"),\n",
        "  tf.keras.layers.MaxPool2D(pool_size=2, # pool_size can also be (2, 2)\n",
        "                            padding=\"valid\"), # padding can also be 'same'\n",
        "  tf.keras.layers.Conv2D(10, 3, activation=\"relu\"),\n",
        "  tf.keras.layers.Conv2D(10, 3, activation=\"relu\"), # activation='relu' == tf.keras.layers.Activations(tf.nn.relu)\n",
        "  tf.keras.layers.MaxPool2D(2),\n",
        "  tf.keras.layers.Flatten(),\n",
        "  tf.keras.layers.Dense(62, activation=\"softmax\")\n",
        "])\n",
        "\n",
        "# Compile the model\n",
        "model_1.compile(loss = tf.keras.losses.sparse_categorical_crossentropy,\n",
        "              optimizer=tf.keras.optimizers.Adam(lr = 0.001),\n",
        "              metrics=[\"accuracy\"])\n",
        "\n",
        "# Fit the model\n",
        "history_1 = model_1.fit(X_train_norm, y_train_tensor, epochs=50)\n",
        "\n",
        "# Plotting loss\n",
        "pd.DataFrame(history_1.history['accuracy']).plot()\n",
        "plt.xlabel(\"Epochs\")\n",
        "plt.ylabel(\"accuracy\")"
      ],
      "execution_count": null,
      "outputs": []
    },
    {
      "cell_type": "markdown",
      "metadata": {
        "id": "B_elHwvRWZj2"
      },
      "source": [
        "### Model 2 VGG-19"
      ]
    },
    {
      "cell_type": "code",
      "metadata": {
        "id": "YZE6PzlZWJQz"
      },
      "source": [
        "from tensorflow.keras import layers, models, regularizers\n",
        "\n",
        "model_2 = models.Sequential()\n",
        "\n",
        "model_2.add(layers.Conv2D(64, (3, 3), padding='same', activation='relu', input_shape=(20, 20, 3)))\n",
        "model_2.add(layers.Conv2D(64, (3, 3), padding='same', activation='relu'))\n",
        "model_2.add(layers.MaxPooling2D(pool_size=(2, 2), strides=(2, 2), padding='same'))\n",
        "\n",
        "model_2.add(layers.Conv2D(128, (3, 3), padding='same', activation='relu'))\n",
        "model_2.add(layers.Conv2D(128, (3, 3), padding='same', activation='relu'))\n",
        "model_2.add(layers.MaxPooling2D(pool_size=(2, 2), strides= (2,2), padding= 'same'))\n",
        "\n",
        "model_2.add(layers.Conv2D(256, (3, 3), padding='same', activation='relu'))\n",
        "model_2.add(layers.Conv2D(256, (3, 3), padding='same', activation='relu'))\n",
        "model_2.add(layers.MaxPooling2D(pool_size=(2, 2), strides= (2,2), padding= 'same'))\n",
        "\n",
        "model_2.add(layers.Conv2D(512, (3, 3), padding='same', activation='relu'))\n",
        "model_2.add(layers.Conv2D(512, (3, 3), padding='same', activation='relu'))\n",
        "model_2.add(layers.Conv2D(512, (3, 3), padding='same', activation='relu'))\n",
        "model_2.add(layers.Conv2D(512, (3, 3), padding='same', activation='relu'))\n",
        "model_2.add(layers.MaxPooling2D(pool_size=(2, 2), strides= (2,2), padding= 'same'))\n",
        "\n",
        "model_2.add(layers.Conv2D(512, (3, 3), padding='same', activation='relu'))\n",
        "model_2.add(layers.Conv2D(512, (3, 3), padding='same', activation='relu'))\n",
        "model_2.add(layers.Conv2D(512, (3, 3), padding='same', activation='relu'))\n",
        "model_2.add(layers.Conv2D(512, (3, 3), padding='same', activation='relu'))\n",
        "model_2.add(layers.MaxPooling2D(pool_size=(2, 2), strides= (2,2), padding= 'same'))\n",
        "\n",
        "model_2.add(layers.Flatten())\n",
        "\n",
        "model_2.add(layers.Dense(4096))\n",
        "model_2.add(layers.Activation('relu'))\n",
        "\n",
        "model_2.add(layers.Dense(4096))\n",
        "model_2.add(layers.Activation('relu'))\n",
        "\n",
        "model_2.add(layers.Dense(1000))\n",
        "model_2.add(layers.Activation('relu'))\n",
        "\n",
        "model_2.add(layers.Dense(62, activation='softmax'))\n",
        "\n",
        "# Compile the model\n",
        "model_2.compile(loss = tf.keras.losses.sparse_categorical_crossentropy,\n",
        "              optimizer=tf.keras.optimizers.Adam(lr = 0.001),\n",
        "              metrics=[\"accuracy\"])\n",
        "\n",
        "# Fit the model\n",
        "history_2 = model_2.fit(X_train_norm, y_train_tensor, epochs=5, batch_size=32)\n",
        "\n",
        "# Plotting loss\n",
        "pd.DataFrame(history_2.history['accuracy']).plot()\n",
        "plt.xlabel(\"Epochs\")\n",
        "plt.ylabel(\"accuracy\")"
      ],
      "execution_count": null,
      "outputs": []
    },
    {
      "cell_type": "markdown",
      "metadata": {
        "id": "NgpIiZnocKun"
      },
      "source": [
        "\n",
        "###Model 3 Tiny VGG with extra neurons"
      ]
    },
    {
      "cell_type": "code",
      "metadata": {
        "id": "TFaEyCMQcLE8"
      },
      "source": [
        "tf.random.set_seed(42)\n",
        "\n",
        "# Create a CNN model (same as Tiny VGG - https://poloclub.github.io/cnn-explainer/)\n",
        "model_3 = tf.keras.models.Sequential([\n",
        "  tf.keras.layers.Conv2D(filters=100, \n",
        "                         kernel_size=3, # can also be (3, 3)\n",
        "                         activation=\"relu\", \n",
        "                         input_shape=(20, 20, 3)), # first layer specifies input shape (height, width, colour channels)\n",
        "  tf.keras.layers.Conv2D(100, 3, activation=\"relu\"),\n",
        "  tf.keras.layers.MaxPool2D(pool_size=2, # pool_size can also be (2, 2)\n",
        "                            padding=\"valid\"), # padding can also be 'same'\n",
        "\n",
        "  tf.keras.layers.Conv2D(100, 3, activation=\"relu\"),\n",
        "  tf.keras.layers.Conv2D(100, 3, activation=\"relu\"), # activation='relu' == tf.keras.layers.Activations(tf.nn.relu)\n",
        "  tf.keras.layers.MaxPool2D(2),\n",
        "\n",
        "  tf.keras.layers.Flatten(),\n",
        "  tf.keras.layers.Dense(62, activation=\"softmax\")\n",
        "])\n",
        "\n",
        "# Compile the model\n",
        "model_3.compile(loss = tf.keras.losses.sparse_categorical_crossentropy,\n",
        "              optimizer=tf.keras.optimizers.Adam(lr = 0.001),\n",
        "              metrics=[\"accuracy\"])\n",
        "\n",
        "# Fit the model\n",
        "history_3 = model_3.fit(X_train_norm, y_train_tensor, epochs=50)\n",
        "\n",
        "# Plotting loss\n",
        "pd.DataFrame(history_3.history['accuracy']).plot()\n",
        "plt.xlabel(\"Epochs\")\n",
        "plt.ylabel(\"accuracy\")"
      ],
      "execution_count": null,
      "outputs": []
    },
    {
      "cell_type": "markdown",
      "metadata": {
        "id": "wmpLnVXszpfy"
      },
      "source": [
        "\n",
        "###Model 4 Tiny VGG with extra neurons and regularization"
      ]
    },
    {
      "cell_type": "code",
      "metadata": {
        "id": "1yq7GcsHz01y"
      },
      "source": [
        "tf.random.set_seed(42)\n",
        "\n",
        "# Create a CNN model (same as Tiny VGG - https://poloclub.github.io/cnn-explainer/)\n",
        "model_4 = tf.keras.models.Sequential([\n",
        "  tf.keras.layers.Conv2D(filters=100, \n",
        "                         kernel_size=3, # can also be (3, 3)\n",
        "                         activation=\"relu\", \n",
        "                         input_shape=(20, 20, 3)), # first layer specifies input shape (height, width, colour channels)\n",
        "  tf.keras.layers.Conv2D(100, 3, activation=\"relu\", kernel_regularizer=tf.keras.regularizers.l2(0.001)),\n",
        "  tf.keras.layers.MaxPool2D(pool_size=2, # pool_size can also be (2, 2)\n",
        "                            padding=\"valid\"), # padding can also be 'same'\n",
        "\n",
        "  tf.keras.layers.Conv2D(100, 3, activation=\"relu\", kernel_regularizer=tf.keras.regularizers.l2(0.001)),\n",
        "  tf.keras.layers.Conv2D(100, 3, activation=\"relu\", kernel_regularizer=tf.keras.regularizers.l2(0.001)),\n",
        "  tf.keras.layers.MaxPool2D(2),\n",
        "\n",
        "  tf.keras.layers.Flatten(),\n",
        "  tf.keras.layers.Dense(62, activation=\"softmax\")\n",
        "])\n",
        "\n",
        "# Compile the model\n",
        "model_4.compile(loss = tf.keras.losses.sparse_categorical_crossentropy,\n",
        "              optimizer=tf.keras.optimizers.Adam(lr = 0.001),\n",
        "              metrics=[\"accuracy\"])\n",
        "\n",
        "# Fit the model\n",
        "history_4 = model_4.fit(X_train_norm, y_train_tensor, epochs=100)\n",
        "# history_4 = model_4.fit(X_train_sp, y_train_sp, epochs=100, validation_data=(X_test_sp, y_test_sp))\n",
        "\n",
        "# Plotting loss\n",
        "pd.DataFrame(history_4.history['accuracy']).plot()\n",
        "plt.xlabel(\"Epochs\")\n",
        "plt.ylabel(\"accuracy\")"
      ],
      "execution_count": null,
      "outputs": []
    },
    {
      "cell_type": "markdown",
      "metadata": {
        "id": "o9hnAyNg_G7z"
      },
      "source": [
        "### Model Best so far"
      ]
    },
    {
      "cell_type": "code",
      "metadata": {
        "id": "MfmRTCoG_N8u"
      },
      "source": [
        "tf.random.set_seed(42)\n",
        "\n",
        "# Make the model\n",
        "model = tf.keras.models.Sequential([\n",
        "  tf.keras.layers.Conv2D(32, 3, activation=\"relu\", padding=\"same\", input_shape=(20, 20, 3)),\n",
        "  tf.keras.layers.Dropout(.1),\n",
        "\n",
        "  tf.keras.layers.Conv2D(32, 3, activation=\"relu\", padding=\"same\"),\n",
        "  tf.keras.layers.MaxPool2D(2,2),\n",
        "  tf.keras.layers.Dropout(.1),\n",
        "  tf.keras.layers.BatchNormalization(),\n",
        "\n",
        "  tf.keras.layers.Conv2D(64, 3, activation=\"relu\", padding=\"same\"),\n",
        "  tf.keras.layers.Dropout(.2),\n",
        "\n",
        "  tf.keras.layers.Conv2D(64, 3, activation=\"relu\", padding=\"same\"),\n",
        "  tf.keras.layers.MaxPool2D(2,2),\n",
        "  tf.keras.layers.Dropout(.2),\n",
        "  tf.keras.layers.BatchNormalization(),\n",
        "\n",
        "\n",
        "  tf.keras.layers.Flatten(),\n",
        "  tf.keras.layers.Dense(64, activation=\"relu\", kernel_regularizer=tf.keras.regularizers.l2(0.04)),\n",
        "  tf.keras.layers.Dense(62, activation=\"softmax\")\n",
        "])\n",
        "\n",
        "# Compile the model\n",
        "model.compile(loss = tf.keras.losses.sparse_categorical_crossentropy,\n",
        "              optimizer=tf.keras.optimizers.RMSprop(lr = 0.001),\n",
        "              metrics=[\"accuracy\"])\n",
        "\n",
        "# Fit the model\n",
        "history = model.fit(X_train, y_train, epochs=24, validation_data=(X_test, y_test))\n",
        "\n",
        "# Plotting loss\n",
        "pd.DataFrame(history.history['val_accuracy']).plot()\n",
        "plt.xlabel(\"Epochs\")\n",
        "plt.ylabel(\"accuracy\")"
      ],
      "execution_count": null,
      "outputs": []
    },
    {
      "cell_type": "markdown",
      "metadata": {
        "id": "PUj0r9rBdqJM"
      },
      "source": [
        "## Getting the output"
      ]
    },
    {
      "cell_type": "code",
      "metadata": {
        "id": "OOwCG0j-dsLC"
      },
      "source": [
        "# Getting Predictions\n",
        "y_pred = model_4.predict(X_test_norm)"
      ],
      "execution_count": null,
      "outputs": []
    },
    {
      "cell_type": "code",
      "metadata": {
        "id": "jAsoE6bjeeA8"
      },
      "source": [
        "# Turning predictions into class labels\n",
        "y_pred_ids = tf.argmax(y_pred,axis=1)\n",
        "y_pred_labels = []\n",
        "for pred in y_pred_ids:\n",
        "   y_pred_labels.append(unique_labels[pred])\n",
        "y_pred_labels"
      ],
      "execution_count": null,
      "outputs": []
    },
    {
      "cell_type": "code",
      "metadata": {
        "colab": {
          "base_uri": "https://localhost:8080/",
          "height": 281
        },
        "id": "KC1jSDYmmsfi",
        "cellView": "form",
        "outputId": "17212bb9-03e6-42ad-a2df-6fab80f33389"
      },
      "source": [
        "#@title Visualizing X_test_norm and y_pred_labels\n",
        "random_index = random.sample(range(0,len(X_test_norm)), 1)\n",
        "random_index = random_index[0]\n",
        "plt.imshow(X_test_norm[random_index])\n",
        "plt.title(y_pred_labels[random_index]);"
      ],
      "execution_count": null,
      "outputs": [
        {
          "output_type": "display_data",
          "data": {
            "image/png": "[encoded data removed]",
            "text/plain": [
              "<Figure size 432x288 with 1 Axes>"
            ]
          },
          "metadata": {
            "tags": [],
            "needs_background": "light"
          }
        }
      ]
    },
    {
      "cell_type": "code",
      "metadata": {
        "id": "GFUeL7jvoED1"
      },
      "source": [
        "# Making csv file for submission\n",
        "df = pd.DataFrame({'ID':ids, 'Class':y_pred_labels})\n",
        "df.to_csv(r'submission8.csv', index = False)"
      ],
      "execution_count": null,
      "outputs": []
    }
  ]
}